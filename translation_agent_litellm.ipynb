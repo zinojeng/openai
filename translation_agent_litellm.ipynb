{
  "nbformat": 4,
  "nbformat_minor": 0,
  "metadata": {
    "colab": {
      "provenance": [],
      "include_colab_link": true
    },
    "kernelspec": {
      "name": "python3",
      "display_name": "Python 3"
    },
    "language_info": {
      "name": "python"
    }
  },
  "cells": [
    {
      "cell_type": "markdown",
      "metadata": {
        "id": "view-in-github",
        "colab_type": "text"
      },
      "source": [
        "<a href=\"https://colab.research.google.com/github/zinojeng/openai/blob/main/translation_agent_litellm.ipynb\" target=\"_parent\"><img src=\"https://colab.research.google.com/assets/colab-badge.svg\" alt=\"Open In Colab\"/></a>"
      ]
    },
    {
      "cell_type": "markdown",
      "source": [
        "# Translation Agent: Agentic translation using reflection workflow\n",
        "\n",
        "這是基於 https://github.com/andrewyng/translation-agent 的 Colab 改寫版本\n",
        "\n",
        "1. 先用 LLM 做第一次翻譯\n",
        "2. 用 LLM 反思剛剛的第一次翻譯結果\n",
        "3. 根據反思結果，用 LLM 翻譯第二次\n",
        "\n",
        "- 原版會針對長文本拆段(是用 LangChain 的 RecursiveCharacterTextSplitter) 避免超過單次呼叫限制，這個簡化版不會處理。因此文本長度限制要看模型，例如 gpt-4o 是 128k tokens。\n",
        "- 這個版本改用 LiteLLM 處理 LLM API 發送，方便切換不同模型使用\n",
        "\n",
        "作者: ihower https://ihower.tw"
      ],
      "metadata": {
        "id": "6O9CyNUONque"
      }
    },
    {
      "cell_type": "markdown",
      "source": [
        "## 1. 設定 OpenAI API Key (若已設定過 colab 密鑰就不用在設定了)"
      ],
      "metadata": {
        "id": "kuvzZwH6XhHl"
      }
    },
    {
      "cell_type": "markdown",
      "source": [
        "請先新增 google colab 要用的 OpenAI API 密鑰(請點左邊側欄的鑰匙)，名稱寫 openai_api_key，值是 sk- 開頭的 key\n",
        "\n",
        "OpenAI API key 請去 https://platform.openai.com/ 註冊申請，綁個信用卡儲值 USD 5 美金。\n",
        "\n",
        "設定好這一次，以後我分享的 colab 就都不用再設定了"
      ],
      "metadata": {
        "id": "Bn2nDDREQ0OK"
      }
    },
    {
      "cell_type": "markdown",
      "source": [
        "<img src=\"https://ihower.tw/images/google-colab-secret.jpg\" width=\"400\">"
      ],
      "metadata": {
        "id": "ht06TJ-HUmY2"
      }
    },
    {
      "cell_type": "code",
      "execution_count": 4,
      "metadata": {
        "id": "yWTGyAj-KX8O"
      },
      "outputs": [],
      "source": [
        "from google.colab import userdata\n",
        "import os\n",
        "\n",
        "os.environ[\"OPENAI_API_KEY\"] = userdata.get('OPENAI_API_KEY')"
      ]
    },
    {
      "cell_type": "markdown",
      "source": [
        "## 2. 要從什麼語言翻譯到什麼語言\n",
        "\n",
        "這裏我寫從英文翻譯成繁體中文"
      ],
      "metadata": {
        "id": "8nfhKUEERj-S"
      }
    },
    {
      "cell_type": "code",
      "source": [
        "source_lang = \"English\"\n",
        "target_lang = \"Traditional Chinese\"\n",
        "country = \"Taiwan\""
      ],
      "metadata": {
        "id": "2pSYAxbEKs2o"
      },
      "execution_count": 22,
      "outputs": []
    },
    {
      "cell_type": "markdown",
      "source": [
        "## 3. 給予要翻譯的原文\n",
        "\n",
        "你可以把文字檔 source.txt 上傳到 colab 目錄下(點左邊側欄的目錄，拖拉即可上傳)，或是直接改以下 source_text 變數"
      ],
      "metadata": {
        "id": "UIwuIZBbQkJB"
      }
    },
    {
      "cell_type": "code",
      "source": [
        "pip install PyMuPDF"
      ],
      "metadata": {
        "colab": {
          "base_uri": "https://localhost:8080/"
        },
        "id": "1U1RX_Ko9ISM",
        "outputId": "40bde886-237f-40fa-f51b-19f9d5e28708"
      },
      "execution_count": 32,
      "outputs": [
        {
          "output_type": "stream",
          "name": "stdout",
          "text": [
            "Collecting PyMuPDF\n",
            "  Downloading PyMuPDF-1.24.7-cp310-none-manylinux2014_x86_64.whl (3.5 MB)\n",
            "\u001b[2K     \u001b[90m━━━━━━━━━━━━━━━━━━━━━━━━━━━━━━━━━━━━━━━━\u001b[0m \u001b[32m3.5/3.5 MB\u001b[0m \u001b[31m13.9 MB/s\u001b[0m eta \u001b[36m0:00:00\u001b[0m\n",
            "\u001b[?25hCollecting PyMuPDFb==1.24.6 (from PyMuPDF)\n",
            "  Downloading PyMuPDFb-1.24.6-py3-none-manylinux2014_x86_64.manylinux_2_17_x86_64.whl (15.7 MB)\n",
            "\u001b[2K     \u001b[90m━━━━━━━━━━━━━━━━━━━━━━━━━━━━━━━━━━━━━━━━\u001b[0m \u001b[32m15.7/15.7 MB\u001b[0m \u001b[31m41.3 MB/s\u001b[0m eta \u001b[36m0:00:00\u001b[0m\n",
            "\u001b[?25hInstalling collected packages: PyMuPDFb, PyMuPDF\n",
            "Successfully installed PyMuPDF-1.24.7 PyMuPDFb-1.24.6\n"
          ]
        }
      ]
    },
    {
      "cell_type": "code",
      "source": [
        "import fitz  # PyMuPDF\n",
        "\n",
        "def read_pdf(file_path):\n",
        "    # 打開 PDF 檔案\n",
        "    pdf_document = fitz.open(file_path)\n",
        "    # 初始化一個空字符串來存儲所有頁面的文本\n",
        "    text = \"\"\n",
        "    # 遍歷每一頁並提取文本\n",
        "    for page_num in range(pdf_document.page_count):\n",
        "        page = pdf_document.load_page(page_num)\n",
        "        text += page.get_text()\n",
        "    return text\n",
        "\n",
        "# 檢查檔案是否存在並讀取內容\n",
        "file_path = '/content/source.pdf'\n",
        "if os.path.exists(file_path):\n",
        "    source_text = read_pdf(file_path)\n",
        "    print(source_text)"
      ],
      "metadata": {
        "id": "bMqgCUzD9EmE"
      },
      "execution_count": null,
      "outputs": []
    },
    {
      "cell_type": "code",
      "source": [
        "import os\n",
        "\n",
        "if os.path.exists('/content/source.txt'):\n",
        "    with open('source.txt', 'r', encoding='utf-8') as file:\n",
        "        source_text = file.read()\n",
        "else:\n",
        "    source_text = \"\"\"\n",
        "Shall I compare thee to a summer’s day?\n",
        "Thou art more lovely and more temperate.\n",
        "Rough winds do shake the darling buds of May,\n",
        "And summer’s lease hath all too short a date.\n",
        "\"\"\""
      ],
      "metadata": {
        "id": "0G1KE_wpK57r"
      },
      "execution_count": 23,
      "outputs": []
    },
    {
      "cell_type": "markdown",
      "source": [
        "## 4. 以下就一路執行到底即可"
      ],
      "metadata": {
        "id": "I7SRfCIdRynN"
      }
    },
    {
      "cell_type": "code",
      "source": [
        "!pip install litellm\n",
        "\n",
        "from litellm import completion"
      ],
      "metadata": {
        "id": "ntDGbneFv3e4"
      },
      "execution_count": null,
      "outputs": []
    },
    {
      "cell_type": "code",
      "source": [
        "import requests\n",
        "import json\n",
        "\n",
        "# 這是呼叫 OpenAI API 的函式\n",
        "def get_completion(user_prompt, system_message = \"You are a helpful assistant.\", model=\"gpt-4o\", temperature=0.3):\n",
        "  messages = [\n",
        "    {\"role\": \"system\", \"content\": system_message },\n",
        "    {\"role\": \"user\", \"content\": user_prompt },\n",
        "  ]\n",
        "\n",
        "  response = completion(model=model, messages=messages)\n",
        "\n",
        "  return response[\"choices\"][0][\"message\"][\"content\"]"
      ],
      "metadata": {
        "id": "Obu6hS9_KjAc"
      },
      "execution_count": 34,
      "outputs": []
    },
    {
      "cell_type": "code",
      "source": [
        "# 第一次翻譯\n",
        "def one_chunk_initial_translation(model, source_text):\n",
        "    system_message = f\"You are an expert linguist, specializing in translation from {source_lang} to {target_lang}.\"\n",
        "\n",
        "    translation_prompt = f\"\"\"This is an {source_lang} to {target_lang} translation, please provide the {target_lang} translation for this text. \\\n",
        "Do not provide any explanations or text apart from the translation.\n",
        "{source_lang}: {source_text}\n",
        "\n",
        "{target_lang}:\"\"\"\n",
        "\n",
        "    translation = get_completion(translation_prompt, system_message=system_message, model=model)\n",
        "\n",
        "    return translation"
      ],
      "metadata": {
        "id": "_yqR2Y2UKqvk"
      },
      "execution_count": 35,
      "outputs": []
    },
    {
      "cell_type": "code",
      "source": [
        "# 根據原文，反思第一次翻譯的結果\n",
        "def one_chunk_reflect_on_translation(model, source_text, translation_1):\n",
        "    system_message = f\"You are an expert linguist specializing in translation from {source_lang} to {target_lang}. \\\n",
        "You will be provided with a source text and its translation and your goal is to improve the translation.\"\n",
        "\n",
        "    prompt = f\"\"\"Your task is to carefully read a source text and a translation from {source_lang} to {target_lang}, and then give constructive criticism and helpful suggestions to improve the translation. \\\n",
        "The final style and tone of the translation should match the style of {target_lang} colloquially spoken in {country}.\n",
        "\n",
        "The source text and initial translation, delimited by XML tags <SOURCE_TEXT></SOURCE_TEXT> and <TRANSLATION></TRANSLATION>, are as follows:\n",
        "\n",
        "<SOURCE_TEXT>\n",
        "{source_text}\n",
        "</SOURCE_TEXT>\n",
        "\n",
        "<TRANSLATION>\n",
        "{translation_1}\n",
        "</TRANSLATION>\n",
        "\n",
        "When writing suggestions, pay attention to whether there are ways to improve the translation's \\n\\\n",
        "(i) accuracy (by correcting errors of addition, mistranslation, omission, or untranslated text),\\n\\\n",
        "(ii) fluency (by applying {target_lang} grammar, spelling and punctuation rules, and ensuring there are no unnecessary repetitions),\\n\\\n",
        "(iii) style (by ensuring the translations reflect the style of the source text and takes into account any cultural context),\\n\\\n",
        "(iv) terminology (by ensuring terminology use is consistent and reflects the source text domain; and by only ensuring you use equivalent idioms {target_lang}).\\n\\\n",
        "\n",
        "Write a list of specific, helpful and constructive suggestions for improving the translation.\n",
        "Each suggestion should address one specific part of the translation.\n",
        "Output only the suggestions and nothing else.\"\"\"\n",
        "\n",
        "    reflection = get_completion(prompt, system_message=system_message, model=model)\n",
        "    return reflection"
      ],
      "metadata": {
        "id": "Zjjwcdw5MXt3"
      },
      "execution_count": 36,
      "outputs": []
    },
    {
      "cell_type": "code",
      "source": [
        "# 根據原文, 第一次翻譯 和 反思結果，做第二次翻譯\n",
        "def one_chunk_improve_translation(model, source_text, translation_1, reflection):\n",
        "    system_message = f\"You are an expert linguist, specializing in translation editing from {source_lang} to {target_lang}.\"\n",
        "\n",
        "    prompt = f\"\"\"Your task is to carefully read, then edit, a translation from {source_lang} to {target_lang}, taking into\n",
        "account a list of expert suggestions and constructive criticisms.\n",
        "\n",
        "The source text, the initial translation, and the expert linguist suggestions are delimited by XML tags <SOURCE_TEXT></SOURCE_TEXT>, <TRANSLATION></TRANSLATION> and <EXPERT_SUGGESTIONS></EXPERT_SUGGESTIONS> \\\n",
        "as follows:\n",
        "\n",
        "<SOURCE_TEXT>\n",
        "{source_text}\n",
        "</SOURCE_TEXT>\n",
        "\n",
        "<TRANSLATION>\n",
        "{translation_1}\n",
        "</TRANSLATION>\n",
        "\n",
        "<EXPERT_SUGGESTIONS>\n",
        "{reflection}\n",
        "</EXPERT_SUGGESTIONS>\n",
        "\n",
        "Please take into account the expert suggestions when editing the translation. Edit the translation by ensuring:\n",
        "\n",
        "(i) accuracy (by correcting errors of addition, mistranslation, omission, or untranslated text),\n",
        "(ii) fluency (by applying {target_lang} grammar, spelling and punctuation rules and ensuring there are no unnecessary repetitions), \\\n",
        "(iii) style (by ensuring the translations reflect the style of the source text)\n",
        "(iv) terminology (inappropriate for context, inconsistent use), or\n",
        "(v) other errors.\n",
        "\n",
        "Output only the new translation and nothing else.\"\"\"\n",
        "\n",
        "    translation_2 = get_completion(prompt, system_message, model=model)\n",
        "\n",
        "    return translation_2"
      ],
      "metadata": {
        "id": "1boVBB8JMptE"
      },
      "execution_count": 37,
      "outputs": []
    },
    {
      "cell_type": "code",
      "source": [
        "# 將以上三個函式整合再一起\n",
        "def one_chunk_translate_text(model, source_text):\n",
        "    print(\"## 第一次翻譯 ##\\n\")\n",
        "    translation_1 = one_chunk_initial_translation(model, source_text)\n",
        "    print(translation_1)\n",
        "    print(\"\\n## 反思第一次的翻譯 ##\\n\")\n",
        "    reflection = one_chunk_reflect_on_translation(model, source_text, translation_1)\n",
        "    print(reflection)\n",
        "    print(\"\\n## 根據反思做第二次翻譯 ##\\n\")\n",
        "    translation_2 = one_chunk_improve_translation(model, source_text, translation_1, reflection)\n",
        "    print(translation_2)\n",
        "    return translation_2"
      ],
      "metadata": {
        "id": "8KlvrgAqLx5U"
      },
      "execution_count": 38,
      "outputs": []
    },
    {
      "cell_type": "markdown",
      "source": [
        "### 5. 呼叫最後整合的 function 進行翻譯\n",
        "\n",
        "如果要用其他家的模型，可以參考我另一個 Colab 設定好別家的 API Key，然後修改下方的模型參數即可: https://colab.research.google.com/drive/1Ci9gbq5e9HqHK9p0kJYxmrJvF1eDrKc0?usp=sharing"
      ],
      "metadata": {
        "id": "nd8PKERWwAAi"
      }
    },
    {
      "cell_type": "code",
      "source": [
        "result = one_chunk_translate_text(\"gpt-4o\", source_text)"
      ],
      "metadata": {
        "colab": {
          "base_uri": "https://localhost:8080/"
        },
        "id": "SV4DLFAiLzDE",
        "outputId": "389566ad-c3bd-458b-d84b-9a5275156e3e"
      },
      "execution_count": 39,
      "outputs": [
        {
          "output_type": "stream",
          "name": "stdout",
          "text": [
            "## 第一次翻譯 ##\n",
            "\n",
            "特朗普遇襲事件打亂關鍵選區選戰\n",
            "\n",
            "唐納‧川普遇襲的事件打亂了競選活動，民主黨的競選活動撤下了廣告並暫停了募款呼籲，而共和黨，包括這位前總統，在短暫停頓後繼續推進。\n",
            "總統喬‧拜登的競選活動，以及許多領先的民主黨人，在週六晚上的槍擊事件後迅速停止了數字廣告和籌款信息，這次槍擊事件造成一人死亡，並讓整個國家震驚。共和黨人也短暫停止了這些活動，但在週日下午恢復了更典型的訊息傳遞。\n",
            "不同的反應突顯出在這次前所未有的暴力事件之後，應對一場激烈競爭的政治競選活動的巨大挑戰。\n",
            "“無論你是共和黨還是民主黨，這都是一個相當令人震驚的事件。而且它發生在競選的每週日程的非常奇怪的時刻——星期六晚上。我認為每個人都在試圖根據公眾和選民對此的反應來調整他們的回應方式，我認為目前還太早下結論，”密西根州共和黨前主席、共和黨策略師傑森‧羅說。\n",
            "共和黨人迅速團結在特朗普周圍，特朗普在週日的募款呼籲中既呼籲“團結”，又誓言永不投降。\n",
            "這位前總統的競選活動曾短暫地放慢了穩定的募款信息發送，但在週日下午改變了方針。幾封電子郵件和短信突出了特朗普在槍擊事件發生後立刻被美國特勤局特工包圍時舉起拳頭的標志性照片。他的競選網站也在週日晚間開始轉向一個展示該照片的募款頁面。\n",
            "籌款信息的重啟與特朗普前往密爾沃基參加週一開幕的共和黨全國代表大會同時進行。在密爾沃基，特朗普的支持者也聚集起來向他致敬，而包括佛羅里達州共和黨眾議員馬特‧蓋茨在內的盟友則在其他地方計劃集會。\n",
            "支持者們希望表達對“這位他們覺得一直在傳遞他們訊息、背負他們重擔的人的感激之情——這幾乎讓他付出了生命的代價，”共和黨策略師和前特朗普政府任命官員馬修‧巴特利特說。“這是一種非常強烈的情感，當你將它轉變為政治時，是最具政治說服力的情感之一。”\n",
            "與特朗普的籌款推動相比，根據平台數據，拜登的競選活動迅速停止了在Facebook和Instagram上的數字廣告，並且到週日晚仍未恢復。這次競選活動還停止了籌款電子郵件和短信。包括民主黨國會競選委員會和民主黨參議員競選委員會等主要民主黨組織，也暫停了他們的籌款信息和數字廣告。\n",
            "拜登“試圖樹立一個榜樣，做出總統應該做的處理方式。他選擇做總統而不是總統候選人——這是目前需要做的正確事情，”波士頓的民主黨策略師瑪麗‧安妮‧馬什說。\n",
            "民主黨人的日程也被打亂了：原定於週一正式訪問德州的拜登延後了行程，儘管他仍將接受NBC新聞的萊斯特‧霍爾特的採訪，然後前往內華達參加全國有色人種協進會全國大會致辭。\n",
            "副總統卡馬拉‧哈里斯原定於週二在佛羅里達州的棕櫚灘縣，也就是靠近特朗普著名的海湖莊園，出席一場關於墮胎權利的討論會，民主黨人希望利用這一議題在該州及全國範圍內推廣。但這趟行程也被推遲了。\n",
            "對槍擊事件的回應中，有幾個似乎跨越了黨派界限——在紐約市，民主黨市長埃里克‧亞當斯主持了一次團結記者會，與會者還包括宗教領袖和市議會中的一名共和黨成員。\n",
            "\n",
            "## 反思第一次的翻譯 ##\n",
            "\n",
            "1. **Translation of \"Trump shooting\"**: The term \"特朗普遇襲事件\" is correctly translated, but the word \"shooting\" specifically refers to a gun-related incident. Consider clarifying with \"特朗普遇襲槍擊事件\" to emphasize the nature of the attack.\n",
            "\n",
            "2. **\"key stretch of the election\"**: The translation did not directly include this concept. Consider adding a phrase to clarify this part: \"打亂關鍵選區選戰\" could be revised to \"打亂選舉關鍵時刻的競選過程\".\n",
            "\n",
            "3. **\"paused fundraising appeals\"**: \"暫停了募款呼籲\" is correct. Ensure this is consistently used throughout the text for accuracy.\n",
            "\n",
            "4. **\"scrambled campaigning\"**: \"打亂競選活動\" works but can be nuanced further. Consider \"使競選活動陷入混亂\".\n",
            "\n",
            "5. **\"many leading Democrats\"**: \"許多領先的民主黨人\" should be changed to \"許多主要的民主黨人\" for better fluency.\n",
            "\n",
            "6. **\"halt digital ads\"**: The phrase can be more clearly translated as \"停止所有數位廣告\" instead of just \"數字廣告\".\n",
            "\n",
            "7. **\"calibrate how they respond\"**: \"調整他們的回應方式\" can be more idiomatically expressed with \"調整他們的因應措施\".\n",
            "\n",
            "8. **\"highlighted the now iconic photo\"**: Should be changed from \"突出了\" to \"呈現了那張已經成為象徵的照片\".\n",
            "\n",
            "9. **\"resumed more typical messaging\"**: Change \"恢復了更典型的訊息傳遞\" to \"恢復了較為常規的訊息傳遞\".\n",
            "\n",
            "10. **\"Milwaukee for the Republican National Convention\"**: Make it clear it's an event by changing to \"前往密爾沃基出席週一開幕的共和黨全國代表大會\".\n",
            "\n",
            "11. **\"supporters in Milwaukee also gathered to honor him\"**: The idiomatic expression would be better translated as \"特朗普的支持者也在密爾沃基集會，以向他致敬\".\n",
            "\n",
            "12. **\"Major Democratic groups\"**: To maintain consistency with \"主要民主黨組織\", this should be clearer by stating \"重要的民主黨團體\".\n",
            "\n",
            "13. **\"appreciation for someone who they feel has been carrying their message\"**: This complex phrase could be rephrased for clarity: \"表達對這位他們認為一直在傳達他們訊息的人的感激之情\".\n",
            "\n",
            "14. **\"scrambled\" in \"Democrats’ schedules were also scrambled\"**: \"日程也被打亂了\" is correct but can be enriched with \"民主黨人的行程也被打亂\".\n",
            "\n",
            "15. **\"cross party lines\"**: Use a more idiomatic expression \"跨越黨派界限\" instead of \"跨黨派界線\".\n",
            "\n",
            "16. **\"unity press conference\"**: \"團結記者會\" is fine, but \"呼籲團結的記者會\" provides more context.\n",
            "\n",
            "17. **\"faith leaders\"**: It's more common in Taiwan to refer to \"宗教領袖\" instead of just \"宗教領袖\".\n",
            "\n",
            "18. **\"Biden is 'trying to set an example, to be presidential'...\"**: This phrase can be translated more fluidly as \"拜登試圖樹立榜樣，展現總統的風範\".\n",
            "\n",
            "By applying these suggestions, the translation will be more accurate, fluent, and reflective of the colloquial style commonly used in Taiwan.\n",
            "\n",
            "## 根據反思做第二次翻譯 ##\n",
            "\n",
            "特朗普遇襲槍擊事件打亂選舉關鍵時刻的競選過程\n",
            "\n",
            "唐納‧川普遇襲槍擊事件打亂了競選活動，民主黨的競選活動撤下了廣告並暫停了募款呼籲，而共和黨，包括這位前總統，在短暫停頓後繼續推進。\n",
            "總統喬‧拜登的競選活動，以及許多主要的民主黨人，在週六晚上的槍擊事件後迅速停止了所有數位廣告和籌款信息，這次槍擊事件造成一人死亡，並讓整個國家震驚。共和黨人也短暫停止了這些活動，但在週日下午恢復了較為常規的訊息傳遞。\n",
            "不同的反應突顯出在這次前所未有的暴力事件之後，應對一場激烈競爭的政治競選活動的巨大挑戰。\n",
            "“無論你是共和黨還是民主黨，這都是一個相當令人震驚的事件。而且它發生在競選的每週日程的非常奇怪的時刻——星期六晚上。我認為每個人都在試圖根據公眾和選民對此的反應來調整他們的因應措施，我認為目前還太早下結論，”密西根州共和黨前主席、共和黨策略師傑森‧羅說。\n",
            "共和黨人迅速團結在特朗普周圍，特朗普在週日的募款呼籲中既呼籲“團結”，又誓言永不投降。\n",
            "這位前總統的競選活動曾短暫地放慢了穩定的募款信息發送，但在週日下午改變了方針。幾封電子郵件和短信呈現了那張已經成為象徵的照片，即特朗普在槍擊事件發生後立刻被美國特勤局特工包圍時舉起拳頭的照片。他的競選網站也在週日晚間開始轉向一個展示該照片的募款頁面。\n",
            "籌款信息的重啟與特朗普前往密爾沃基出席週一開幕的共和黨全國代表大會同時進行。在密爾沃基，特朗普的支持者也集會，以向他致敬，而包括佛羅里達州共和黨眾議員馬特‧蓋茨在內的盟友則在其他地方計劃集會。\n",
            "支持者們希望表達對“這位他們認為一直在傳達他們訊息、背負他們重擔的人的感激之情——這幾乎讓他付出了生命的代價，”共和黨策略師和前特朗普政府任命官員馬修‧巴特利特說。“這是一種非常強烈的情感，當你將它轉變為政治時，是最具政治說服力的情感之一。”\n",
            "與特朗普的籌款推動相比，根據平台數據，拜登的競選活動迅速停止了在Facebook和Instagram上的數位廣告，並且到週日晚仍未恢復。這次競選活動還停止了籌款電子郵件和短信。包括民主黨國會競選委員會和民主黨參議員競選委員會等重要的民主黨團體，也暫停了他們的籌款信息和數位廣告。\n",
            "拜登試圖樹立榜樣，展現總統的風範。他選擇做總統而不是總統候選人——這是目前需要做的正確事情，”波士頓的民主黨策略師瑪麗‧安妮‧馬什說。\n",
            "民主黨人的行程也被打亂了：原定於週一正式訪問德州的拜登延後了行程，儘管他仍將接受NBC新聞的萊斯特‧霍爾特的採訪，然後前往內華達參加全國有色人種協進會全國大會致辭。\n",
            "副總統卡馬拉‧哈里斯原定於週二在佛羅里達州的棕櫚灘縣，也就是靠近特朗普著名的海湖莊園，出席一場關於墮胎權利的討論會，民主黨人希望利用這一議題在該州及全國範圍內推廣。但這趟行程也被推遲了。\n",
            "對槍擊事件的回應中，有幾個似乎跨越了黨派界限——在紐約市，民主黨市長埃里克‧亞當斯主持了一次呼籲團結的記者會，與會者還包括宗教領袖和市議會中的一名共和黨成員。\n"
          ]
        }
      ]
    },
    {
      "cell_type": "markdown",
      "source": [
        "## 6. 印出最後翻譯結果:"
      ],
      "metadata": {
        "id": "xy1TajDfU_Br"
      }
    },
    {
      "cell_type": "code",
      "source": [
        "print(result)"
      ],
      "metadata": {
        "colab": {
          "base_uri": "https://localhost:8080/"
        },
        "id": "o5p89ScxNIJl",
        "outputId": "6ad12e0e-9b07-4bbb-a7c7-69274d276dd8"
      },
      "execution_count": 21,
      "outputs": [
        {
          "output_type": "stream",
          "name": "stdout",
          "text": [
            "US presidential candidate Trump was shot during a rally in Pennsylvania on the 13th, injuring his right ear, causing it to bleed. One person was killed and two others were seriously injured at the scene. The 20-year-old shooter, Thomas Matthew Crooks, was killed on the spot. Following the shooting, the shooter's identity and past photos were disclosed. Crooks, who was known to be gifted in mathematics, used a gun bought by his father, and police found explosives in his car and residence.\n",
            "\n",
            "The shooting of Trump shocked the world! The FBI swiftly identified the shooter as Crooks, a 20-year-old man from Bethel Park, Pennsylvania. He was positioned in a building 180 meters away from Trump's rally venue and opened fire multiple times as Trump delivered his speech. However, the motive for the crime remains unclear. Witnesses reported seeing the shooter climb onto the roof with a gun and immediately informed security personnel, but the tragedy couldn't be prevented; the entire incident lasted only six seconds.\n",
            "\n",
            "According to multiple reports from US media, Crooks was registered as a Republican in the Pennsylvania voter database, and this year's presidential election would have been his first time reaching voting age, though it's unclear when he registered. According to Federal Election Commission (FEC) records, Crooks made a small donation of $15 to a group allied with the Democratic Party in January 2021.\n",
            "\n",
            "Crooks' past has also been scrutinized; a video of his 2022 high school graduation went viral. The Pittsburgh Tribune-Review reported that Crooks was previously recognized as a math prodigy and received a \"Star Award\" worth $500 (approximately 16,000 TWD) from the National Math and Science Initiative upon his high school graduation. The gun used in the crime was purchased by his father, and relevant authorities found explosives in his car and residence, which are now being handled by bomb squads.\n"
          ]
        }
      ]
    },
    {
      "cell_type": "code",
      "source": [],
      "metadata": {
        "id": "D9hoSJ3ONk76"
      },
      "execution_count": null,
      "outputs": []
    }
  ]
}